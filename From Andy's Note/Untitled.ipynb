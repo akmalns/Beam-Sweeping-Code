{
 "cells": [
  {
   "cell_type": "code",
   "execution_count": 1,
   "metadata": {},
   "outputs": [],
   "source": [
    "import numpy as np"
   ]
  },
  {
   "cell_type": "code",
   "execution_count": 2,
   "metadata": {},
   "outputs": [],
   "source": [
    "### enable conv_RA\n",
    "CONFIG = '5G'\n",
    "\n",
    "# number of slots in a 120kHz slot\n",
    "NumofROin120kHzslot = 6 #1\n",
    "P_U = 54 #0\n",
    "\n",
    "# arrival process\n",
    "ARRIVAL = 'one-shot'\n",
    "\n",
    "# number of max retransmission\n",
    "retrans = 2\n",
    "\n",
    "# latency from msg1-msg3\n",
    "sigma = 0.125/6 #1.25\n",
    "T_RAR = 0\n",
    "W_RAR = 0 #3\n",
    "\n",
    "# backoff\n",
    "W_BO = 5 #40"
   ]
  },
  {
   "cell_type": "code",
   "execution_count": 3,
   "metadata": {},
   "outputs": [],
   "source": [
    "def find_Hmin(i,S,C,N,P1,P2):\n",
    "    n = int((i-1)%P%(N+P1)%N+1)\n",
    "    print(n)\n",
    "        \n",
    "    if 0<i/P<=1 and 0<((i-1)%P+1)/(P1+N)<=1 and 2<=n<=N :\n",
    "        print(\"this is 1\")\n",
    "        Hmin = np.ceil((i-n+1)-(W_RAR+W_BO)/sigma)\n",
    "    \n",
    "    elif 0<i/P and 1<((i-1)%P+1)/(P1+N)<=C : \n",
    "        print(\"this is 2\")\n",
    "        Hmin = np.ceil((i-n-P1)-(W_RAR+W_BO)/sigma)\n",
    "        \n",
    "    elif 1<i/P and 0<((i-1)%P+1)/(P1+N)<=1 : \n",
    "        print(\"this is 3\")\n",
    "        Hmin = np.ceil((i-n-P2)-(W_RAR+W_BO)/sigma)\n",
    "        \n",
    "    else:\n",
    "        Hmin = -1\n",
    "        \n",
    "    return Hmin"
   ]
  },
  {
   "cell_type": "markdown",
   "metadata": {},
   "source": [
    "## Testing Hmin Output Value"
   ]
  },
  {
   "cell_type": "code",
   "execution_count": 4,
   "metadata": {
    "scrolled": false
   },
   "outputs": [
    {
     "name": "stdout",
     "output_type": "stream",
     "text": [
      "1\n",
      "Hmin=-1\n",
      "0.020833333333333332\n"
     ]
    }
   ],
   "source": [
    "P=60\n",
    "print(\"Hmin={}\".format(find_Hmin(75,0,3,1,2,56)))\n",
    "print(0.125/6)"
   ]
  },
  {
   "cell_type": "markdown",
   "metadata": {},
   "source": [
    "n=(44%"
   ]
  },
  {
   "cell_type": "code",
   "execution_count": null,
   "metadata": {},
   "outputs": [],
   "source": []
  },
  {
   "cell_type": "code",
   "execution_count": null,
   "metadata": {},
   "outputs": [],
   "source": []
  },
  {
   "cell_type": "code",
   "execution_count": null,
   "metadata": {},
   "outputs": [],
   "source": [
    "def find_Hmax(i,S,C,N,P1,P2):\n",
    "    n = int((i-1)%P%(N+P1)%N+1)\n",
    "    if 0<i/P<=1 and 0<((i-1)%P+1)/(P1+N)<=1 and 2<=n<=N :\n",
    "        Hmax = np.floor((i-W_RAR/sigma))\n",
    "    \n",
    "    elif 0<i/P and 1<((i-1)%P+1)/(P1+N)<=C : \n",
    "        Hmax = np.floor((i-W_RAR/sigma))\n",
    "        \n",
    "    elif 1<i/P and 0<((i-1)%P+1)/(P1+N)<=1 : \n",
    "        Hmax = np.floor((i-W_RAR/sigma))\n",
    "    \n",
    "    else: \n",
    "        Hmax = -1\n",
    "        \n",
    "    return Hmax"
   ]
  },
  {
   "cell_type": "code",
   "execution_count": null,
   "metadata": {},
   "outputs": [],
   "source": [
    "def find_alpha(h, Hmin, Hmax, i, S, C, N, P1, P2):\n",
    "    if Hmin<0 and Hmax<0:\n",
    "        alpha = 0\n",
    "    return alpha\n",
    "    \n",
    "    if 0<i/P<=1 and 0<((i-1)%P+1)/(P1+N)<= 1:\n",
    "        alpha = 0\n",
    "        if 2<=n<=N:\n",
    "            for j in range(2,n+1):\n",
    "                # case1\n",
    "                if i-j+1-(W_RAR+W_BO)/sigma < h < i-j+2-(W_RAR+W_BO)/sigma :\n",
    "                    alpha += (1/(N-n+j-1))*((h*sigma+W_RAR+W_BO-(i-j+1)*sigma)/W_BO) \n",
    "                # case2\n",
    "                elif i-j+2-(W_RAR+W_BO)/sigma <= h <= i-j+1-W_RAR/sigma : \n",
    "                    alpha += (1/(N-n+j-1))*(sigma/W_BO) \n",
    "                # case3\n",
    "                elif i-j+1-W_RAR/sigma < h < i-j+2-W_RAR/sigma : \n",
    "                    alpha += (1/(N-n+j-1))*(((i-j+2)*sigma-(h*sigma+W_RAR))/W_BO)\n",
    "        return alpha\n",
    "    \n",
    "    elif 0<i/P and 1<((i-1)%P+1)/(P1+N)<=C : #backoff at P1 and sigma after P1\n",
    "        alpha = 0 \n",
    "        if i-n-P1-(W_RAR+W_BO)/sigma < h < i-n+1-(W_RAR+W_BO)/sigma :\n",
    "            alpha = (1/N)*(((h-1)*sigma+W_RAR+W_BO-(i-n-P1-1)*sigma)/W_BO) \n",
    "\n",
    "        elif i-n+1-(W_RAR+W_BO)/sigma <= h <= i-n-P1-W_RAR/sigma : \n",
    "            alpha = (1/N)*((1+P1)*sigma/W_BO) \n",
    "\n",
    "        elif i-n-P1-W_RAR/sigma < h < i-n+1-W_RAR/sigma : \n",
    "            alpha = (1/N)*(((i-n)*sigma-((h-1)*sigma+W_RAR))/W_BO)\n",
    "        \n",
    "        for j in range(2,n+1):\n",
    "            # case1\n",
    "            if i-j+1-(W_RAR+W_BO)/sigma < h < i-j+2-(W_RAR+W_BO)/sigma :\n",
    "                alpha += (1/(N-n+j-1))*((h*sigma+W_RAR+W_BO-(i-j+1)*sigma)/W_BO) \n",
    "            # case2\n",
    "            elif i-j+2-(W_RAR+W_BO)/sigma <= h <= i-j+1-W_RAR/sigma : \n",
    "                alpha += (1/(N-n+j-1))*(sigma/W_BO) \n",
    "            # case3\n",
    "            elif i-j+1-W_RAR/sigma < h < i-j+2-W_RAR/sigma : \n",
    "                alpha += (1/(N-n+j-1))*(((i-j+2)*sigma-(h*sigma+W_RAR))/W_BO)\n",
    "        return alpha\n",
    "    \n",
    "    elif 1<i/P and 0<((i-1)%P+1)/(P1+N)<=1 : #backoff at P2 and sigma after P2\n",
    "        alpha = 0 \n",
    "        if i-n-P2-(W_RAR+W_BO)/sigma < h < i-n+1-(W_RAR+W_BO)/sigma :\n",
    "            alpha = (1/N)*(((h-1)*sigma+W_RAR+W_BO-(i-n-P2-1)*sigma)/W_BO) \n",
    "\n",
    "        elif i-n+1-(W_RAR+W_BO)/sigma <= h <= i-n-P2-W_RAR/sigma : \n",
    "            alpha = (1/N)*((1+P2)*sigma/W_BO) \n",
    "\n",
    "        elif i-n-P2-W_RAR/sigma < h < i-n+1-W_RAR/sigma : \n",
    "            alpha = (1/N)*(((i-n)*sigma-((h-1)*sigma+W_RAR))/W_BO)\n",
    "        \n",
    "        for j in range(2,n+1):\n",
    "            # case1\n",
    "            if i-j+1-(W_RAR+W_BO)/sigma < h < i-j+2-(W_RAR+W_BO)/sigma :\n",
    "                alpha += (1/(N-n+j-1))*((h*sigma+W_RAR+W_BO-(i-j+1)*sigma)/W_BO) \n",
    "            # case2\n",
    "            elif i-j+2-(W_RAR+W_BO)/sigma <= h <= i-j+1-W_RAR/sigma : \n",
    "                alpha += (1/(N-n+j-1))*(sigma/W_BO) \n",
    "            # case3\n",
    "            elif i-j+1-W_RAR/sigma < h < i-j+2-W_RAR/sigma : \n",
    "                alpha += (1/(N-n+j-1))*(((i-j+2)*sigma-(h*sigma+W_RAR))/W_BO)\n",
    "        return alpha\n",
    "\n",
    "    else:\n",
    "        alpha = -1\n",
    "        return alpha"
   ]
  },
  {
   "cell_type": "code",
   "execution_count": null,
   "metadata": {},
   "outputs": [],
   "source": [
    "def maxslot():\n",
    "    Maxraslot = 540 #96 #np.ceil((T_RAR+W_RAR+W_BO)/sigma)*(retrans)+1 #np.ceil 向上取整        \n",
    "    return int(Maxraslot)"
   ]
  },
  {
   "cell_type": "code",
   "execution_count": null,
   "metadata": {},
   "outputs": [],
   "source": [
    "def designPattern(C, S, N, P, Maxraslot):\n",
    "    frame = np.zeros(P)\n",
    "    for c in range(1,C+1):\n",
    "        for n in range(1,N+1):\n",
    "            i = (c-1)*S*N+n\n",
    "            frame[int(np.floor((i-1)/NumofROin120kHzslot)*P_U+i)-1] = 1\n",
    "    result = np.tile(frame, (Maxraslot // len(frame)))\n",
    "    result = np.append(result, frame[:(Maxraslot%len(frame))])\n",
    "    return result"
   ]
  },
  {
   "cell_type": "code",
   "execution_count": null,
   "metadata": {},
   "outputs": [],
   "source": [
    "np.zeros(2)"
   ]
  },
  {
   "cell_type": "code",
   "execution_count": null,
   "metadata": {},
   "outputs": [],
   "source": [
    "[[0]*(2+1) for _ in range(0,10)]"
   ]
  },
  {
   "cell_type": "code",
   "execution_count": null,
   "metadata": {},
   "outputs": [],
   "source": [
    "def main(retrans,TestUE,C,S,N,K,P,Y,R):\n",
    "# ##     for Y2C1S1N6K4P30 Y8C1S1N6K4P30\n",
    "#     P1 = P_U\n",
    "#     P2 = P_U\n",
    "##     for Y8C3S2N1K2P30\n",
    "    P1 = (S-1)*N\n",
    "    P2 = (S-1)*N + P_U\n",
    "##     for Y8C3S4N1K1P60\n",
    "#     P1 = (S-1)*N + P_U\n",
    "#     P2 = (S-1)*N \n",
    "\n",
    "    Ms = [[0]*(retrans+1) for _ in range(0,maxslot()+1)]\n",
    "    Mf = [[0]*(retrans+1) for _ in range(0,maxslot()+1)]\n",
    "    UE = [0 for i in range(0,maxslot()+1)]\n",
    "    T = [0 for i in range(0,maxslot()+1)]\n",
    "    Pattern = designPattern(C, S, N, P, int(maxslot()))\n",
    "#     Pattern = np.roll(designPattern(C, S, N, P, int(maxslot())),-4) # for Y8C3S4N1K1P60\n",
    "\n",
    "    for j in range(1,int(N)+1): # Ann only see one beam\n",
    "        Mf[j][0]=TestUE/(N)\n",
    "        UE[j] = Mf[j][0]\n",
    "    \n",
    "        \n",
    "    for i in range(1,maxslot()+1):\n",
    "        Hmin = int(find_Hmin(i,S,C,N,P1,P2)) #update Hmin\n",
    "        Hmax = int(find_Hmax(i,S,C,N,P1,P2)) #update Hmax\n",
    "#         print('i=',i,'Hmin=',Hmin,'Hmax=',Hmax)\n",
    "            \n",
    "        for n in range(1,retrans+1):\n",
    "            for h in range(Hmin,Hmax+1):\n",
    "                if Mf[h][n-1]!=0 and (h>=1) :\n",
    "                    E_M = np.exp(-UE[h]/R)\n",
    "                    M_n_i = (1-E_M)*Mf[h][n-1]\n",
    "                    if Pattern[h-1] == Pattern[i-1] : #only bachoff at each own beam slot\n",
    "                        alpha = find_alpha(h, Hmin, Hmax, i, S,C,N,P1,P2) #update alpha\n",
    "#                         print('i=',i,'h=',h,'M_n_i=',M_n_i,'alpha=',alpha)\n",
    "                        Mf[i][n] = Mf[i][n]+(M_n_i)*alpha\n",
    "            \n",
    "            UE[i] += Mf[i][n] #Ann\n",
    "        for n in range(0,retrans+1):\n",
    "            E_M = np.exp(-UE[i]/R) #Ann\n",
    "            Ms[i][n] = E_M*Mf[i][n]\n",
    "                        \n",
    "        \n",
    "        T[i] = (i)*sigma + T_RAR + W_RAR  #define delay\n",
    "\n",
    "    ##report---------------------------------------------------------\n",
    "    tmp_PS=0\n",
    "    tmp_AD=0\n",
    "#     print('Mf=',Mf)\n",
    "#     print('UE=',UE)\n",
    "#     print('Ms=',Ms)\n",
    "    for i in range(1,maxslot()+1):\n",
    "        for n in range(0,retrans+1):\n",
    "            tmp_PS+=Ms[i][n]\n",
    "            tmp_AD+=Ms[i][n]*T[i]\n",
    "    Ps=tmp_PS/TestUE\n",
    "    Da=tmp_AD/tmp_PS\n",
    "#     print('Ps=',Ps,',')\n",
    "    print('Da=',Da,',')\n",
    "    #CDF of preamble transmission -------------------------------------\n",
    "    MS_K = 0\n",
    "    for temp_n in range(0,retrans+1): \n",
    "        for temp_i in range(0,maxslot()):\n",
    "            MS_K += Ms[temp_i][temp_n]\n",
    "#         if tmp_PS==0:\n",
    "#             print('      F(',temp_n+1,')= 0,') \n",
    "#         else:\n",
    "#             print('      F(',temp_n+1,')=', MS_K/tmp_PS,',')\n",
    "            \n",
    "    #CDF of access delay ----------------------------------------------\n",
    "    for temp_da in range(0,300):\n",
    "        MS_D = 0\n",
    "        for temp_i in range(1,maxslot()+1):\n",
    "            if T[temp_i]<=temp_da :\n",
    "                for temp_n in range(0,retrans+1): \n",
    "                    MS_D += Ms[temp_i][temp_n]\n",
    "            else:\n",
    "                break"
   ]
  },
  {
   "cell_type": "code",
   "execution_count": null,
   "metadata": {},
   "outputs": [],
   "source": [
    "print('Y2C1S1N6K4P60')\n",
    "C = 1\n",
    "S = 1\n",
    "N = 6\n",
    "K = 4\n",
    "P = 60\n",
    "Y = 2\n",
    "R = 56*Y/K\n",
    "for TestUE in (1,10,20,30,40,50,60,70,80,90,100,110,120,130,140,150,160,170,180,190,200,220,240,260,280,300,340,380,420,460,500):\n",
    "    main(retrans, TestUE,C,S,N,K,P,Y,R)"
   ]
  },
  {
   "cell_type": "code",
   "execution_count": null,
   "metadata": {},
   "outputs": [],
   "source": []
  }
 ],
 "metadata": {
  "kernelspec": {
   "display_name": "Python 3",
   "language": "python",
   "name": "python3"
  },
  "language_info": {
   "codemirror_mode": {
    "name": "ipython",
    "version": 3
   },
   "file_extension": ".py",
   "mimetype": "text/x-python",
   "name": "python",
   "nbconvert_exporter": "python",
   "pygments_lexer": "ipython3",
   "version": "3.7.3"
  }
 },
 "nbformat": 4,
 "nbformat_minor": 4
}
